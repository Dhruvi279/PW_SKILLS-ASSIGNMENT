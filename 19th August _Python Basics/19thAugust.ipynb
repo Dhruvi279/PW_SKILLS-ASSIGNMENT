{
 "cells": [
  {
   "cell_type": "code",
   "execution_count": 6,
   "id": "aad4167f-c70e-4786-8c8b-25dc2621712b",
   "metadata": {},
   "outputs": [
    {
     "name": "stdout",
     "output_type": "stream",
     "text": [
      "3\n",
      "7\n"
     ]
    }
   ],
   "source": [
    "#swapping\n",
    "x=7\n",
    "y=3\n",
    "x = x+y#10\n",
    "y = x-y#7\n",
    "x = x-y\n",
    "print(x)\n",
    "print(y)"
   ]
  },
  {
   "cell_type": "code",
   "execution_count": 8,
   "id": "5eefa4ad-1902-49e3-8414-38fcc0040c98",
   "metadata": {},
   "outputs": [
    {
     "name": "stdout",
     "output_type": "stream",
     "text": [
      "enter length 12.9\n",
      "enter width 18.9\n"
     ]
    },
    {
     "name": "stdout",
     "output_type": "stream",
     "text": [
      "Area of rectangle is : 243.81\n"
     ]
    }
   ],
   "source": [
    "#areaofrect\n",
    "l = float(input(\"enter length\"))\n",
    "w = float(input(\"enter width\"))\n",
    "area = l*w\n",
    "print(\"Area of rectangle is :\",area)"
   ]
  },
  {
   "cell_type": "code",
   "execution_count": 9,
   "id": "7f3d39f0-2b2f-4ccf-9f41-042d9192500b",
   "metadata": {},
   "outputs": [
    {
     "name": "stdout",
     "output_type": "stream",
     "text": [
      "enter temp in celsius 100.9\n"
     ]
    },
    {
     "name": "stdout",
     "output_type": "stream",
     "text": [
      "Conversion from celcius to Farenhit is :  213.62\n"
     ]
    }
   ],
   "source": [
    "cel = float(input(\"enter temp in celsius\"))\n",
    "far = ((9*cel)/5)+32\n",
    "print(\"Conversion from celcius to Farenhit is : \",far)"
   ]
  },
  {
   "cell_type": "code",
   "execution_count": 10,
   "id": "6cbeb93a-f500-4d38-928f-26f112f586c0",
   "metadata": {},
   "outputs": [
    {
     "name": "stdout",
     "output_type": "stream",
     "text": [
      "enter a string dhruvithakkar\n"
     ]
    },
    {
     "name": "stdout",
     "output_type": "stream",
     "text": [
      "13\n"
     ]
    }
   ],
   "source": [
    "string = input(\"enter a string\")\n",
    "print(len(string))"
   ]
  },
  {
   "cell_type": "code",
   "execution_count": 23,
   "id": "d09886db-ebc3-4621-81f8-2c5a95b5fbe9",
   "metadata": {},
   "outputs": [
    {
     "name": "stdout",
     "output_type": "stream",
     "text": [
      "Total Vowels are  20\n"
     ]
    }
   ],
   "source": [
    "sent = \"Hello Dhruvi,Hope U are doing good . Your's faithful , Anvi\"\n",
    "count = 0\n",
    "for i in sent :\n",
    "        if i in 'aeiouAEIOU':\n",
    "            count+=1\n",
    "            \n",
    "print(\"Total Vowels are \",count)       "
   ]
  },
  {
   "cell_type": "code",
   "execution_count": 36,
   "id": "9b0cad82-91c3-4a2e-a126-4a4a20a36ae1",
   "metadata": {},
   "outputs": [
    {
     "name": "stdout",
     "output_type": "stream",
     "text": [
      "enter a string  ANU\n"
     ]
    },
    {
     "name": "stdout",
     "output_type": "stream",
     "text": [
      "Reverse of the string is : UNA \n"
     ]
    }
   ],
   "source": [
    "\"\"\"string = \"ATLAS\"\n",
    "rev = \"\"\n",
    "for i in range(-1,-len(string)-1,-1):\n",
    "         rev  = rev + string[i]\n",
    "print(\"Reverse String using slicing  is :\",rev)\"\"\"\n",
    "String = input(\"enter a string\")\n",
    "rev = String[::-1]\n",
    "print(\"Reverse of the string is :\",rev)\n",
    "           "
   ]
  },
  {
   "cell_type": "code",
   "execution_count": 35,
   "id": "05166285-adc4-49f8-8dea-c558b0fa8e8b",
   "metadata": {},
   "outputs": [
    {
     "name": "stdout",
     "output_type": "stream",
     "text": [
      "enter a string meta\n"
     ]
    },
    {
     "name": "stdout",
     "output_type": "stream",
     "text": [
      "String is not a Palindrome\n"
     ]
    }
   ],
   "source": [
    "String = input(\"enter a string\")\n",
    "rev =String[::-1]\n",
    "if(rev == String):\n",
    "    print(\"String is Palindrome\")\n",
    "else :\n",
    "        print(\"String is not a Palindrome\")\n"
   ]
  },
  {
   "cell_type": "code",
   "execution_count": 41,
   "id": "e090067e-0f18-465b-b67a-116f27a936be",
   "metadata": {},
   "outputs": [
    {
     "name": "stdout",
     "output_type": "stream",
     "text": [
      "enter a string dhruvi  is a good       girl !!!\n"
     ]
    },
    {
     "name": "stdout",
     "output_type": "stream",
     "text": [
      "String after removal is: dhruvi is a good    girl !!!\n"
     ]
    }
   ],
   "source": [
    "String = input(\"enter a string\")\n",
    "a = String.replace(\"  \",\" \")\n",
    "print(\"String after removal is:\",a)"
   ]
  },
  {
   "cell_type": "code",
   "execution_count": null,
   "id": "88bd637a-0001-4f7c-ad7a-e5736c804b2a",
   "metadata": {},
   "outputs": [],
   "source": []
  }
 ],
 "metadata": {
  "kernelspec": {
   "display_name": "Python 3 (ipykernel)",
   "language": "python",
   "name": "python3"
  },
  "language_info": {
   "codemirror_mode": {
    "name": "ipython",
    "version": 3
   },
   "file_extension": ".py",
   "mimetype": "text/x-python",
   "name": "python",
   "nbconvert_exporter": "python",
   "pygments_lexer": "ipython3",
   "version": "3.10.8"
  }
 },
 "nbformat": 4,
 "nbformat_minor": 5
}
